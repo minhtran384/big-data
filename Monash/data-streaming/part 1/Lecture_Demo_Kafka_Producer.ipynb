{
 "cells": [
  {
   "cell_type": "code",
   "execution_count": null,
   "metadata": {},
   "outputs": [],
   "source": [
    "# import statements\n",
    "from time import sleep\n",
    "from json import dumps\n",
    "from kafka import KafkaProducer\n",
    "import random\n",
    "import datetime as dt\n",
    "\n",
    "\n",
    "def publish_message(producer_instance, topic_name, key, value):\n",
    "    try:\n",
    "        key_bytes = bytes(key, encoding='utf-8')\n",
    "        value_bytes = bytes(value, encoding='utf-8')\n",
    "        producer_instance.send(topic_name, key=key_bytes, value=value_bytes)\n",
    "        producer_instance.flush()\n",
    "        print('Data: ' + str(data))\n",
    "    except Exception as ex:\n",
    "        print('Exception in publishing message.')\n",
    "        print(str(ex))\n",
    "        \n",
    "def connect_kafka_producer():\n",
    "    _producer = None\n",
    "    try:\n",
    "        _producer = KafkaProducer(bootstrap_servers=['localhost:9092'],\n",
    "                                  api_version=(0, 10))\n",
    "    except Exception as ex:\n",
    "        print('Exception while connecting Kafka.')\n",
    "        print(str(ex))\n",
    "    finally:\n",
    "        return _producer"
   ]
  },
  {
   "cell_type": "code",
   "execution_count": null,
   "metadata": {},
   "outputs": [],
   "source": [
    "topic = 'LectureDemo'\n",
    "print('Publishing records..')\n",
    "producer = connect_kafka_producer()\n",
    "\n",
    "# Data format: time, incoming attendees, outgoing attendees\n",
    "# Assumption: For the sake of demonstartion we assume \n",
    "# - For the first 5 seconds there will be no outgoing attendees.\n",
    "# - Every second we can have 1 to 5 incoming attendees.\n",
    "# - Every second we can have 0 to 5 outgoing attendees.\n",
    "for e in range(100):\n",
    "    if e < 5:\n",
    "        data = str(dt.datetime.now().strftime(\"%X\")) + ',' + str(random.randrange(1,5))  + ',-0'\n",
    "    else:\n",
    "        data = str(dt.datetime.now().strftime(\"%X\")) + ',' + str(random.randrange(1,5))  + ',-' + str(random.randrange(0,5))\n",
    "    publish_message(producer, topic, 'parsed', data)\n",
    "    sleep(1)"
   ]
  },
  {
   "cell_type": "code",
   "execution_count": null,
   "metadata": {},
   "outputs": [],
   "source": []
  }
 ],
 "metadata": {
  "kernelspec": {
   "display_name": "Python 3",
   "language": "python",
   "name": "python3"
  },
  "language_info": {
   "codemirror_mode": {
    "name": "ipython",
    "version": 3
   },
   "file_extension": ".py",
   "mimetype": "text/x-python",
   "name": "python",
   "nbconvert_exporter": "python",
   "pygments_lexer": "ipython3",
   "version": "3.8.2"
  }
 },
 "nbformat": 4,
 "nbformat_minor": 2
}
