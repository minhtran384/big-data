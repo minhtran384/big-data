{
 "cells": [
  {
   "cell_type": "markdown",
   "metadata": {},
   "source": [
    "### Consuming Kafka Streaming Data\n",
    "We will be looking into more details about <strong>Apache Spark + Kafka Integration</strong> in Week 10. You can refer to the <a href=\"https://spark.apache.org/docs/latest/structured-streaming-kafka-integration.html\" target='_blank'> official documentation</a> to know more details on Structured Streaming in Apache Spark.\n",
    "\n",
    "#### Step 1: Import Necessary libraries and create spark session\n",
    "\n"
   ]
  },
  {
   "cell_type": "code",
   "execution_count": 1,
   "metadata": {},
   "outputs": [],
   "source": [
    "import os\n",
    "os.environ['PYSPARK_SUBMIT_ARGS'] = '--packages org.apache.spark:spark-streaming-kafka-0-10_2.12:3.0.0,org.apache.spark:spark-sql-kafka-0-10_2.12:3.0.0 pyspark-shell'\n",
    "\n",
    "from pyspark.sql import SparkSession\n",
    "from pyspark.sql.functions import explode\n",
    "from pyspark.sql.functions import split\n",
    "from pyspark.sql import functions as F\n",
    "from pyspark.sql.types import *\n",
    "\n",
    "spark = SparkSession \\\n",
    "    .builder \\\n",
    "    .appName(\"Clickstream Analysis in Spark\") \\\n",
    "    .getOrCreate()\n"
   ]
  },
  {
   "attachments": {
    "image.png": {
     "image/png": "[encoded data removed]"
    }
   },
   "cell_type": "markdown",
   "metadata": {},
   "source": [
    "#### Next: \n",
    "Similar to how we read the data from <code>socket</code>, reading from Kafka also follows the same pattern:\n",
    "    <code>\n",
    "    topic = \"clickstream\"\n",
    "    df = spark \\\n",
    "      .readStream \\\n",
    "      .format(\"kafka\") \\\n",
    "      .option(\"kafka.bootstrap.servers\", \"127.0.0.1:9092\") \\\n",
    "      .option(\"subscribe\", topic) \\\n",
    "      .load()\n",
    "    </code>\n",
    "\n",
    "You can notice the main difference is the <code>format(\"kafka\")</code> and the <code>option(\"..\")</code> specifying the kafka server address.\n",
    "\n",
    "#### Next:\n",
    "So far the data is read from the stream but not sent to any destination. Similar to the word count example, implement the <code>writeStream</code> to write the data to the console and see the output. You will see a tabular format for the output:\n",
    "\n",
    "![image.png](attachment:image.png)"
   ]
  },
  {
   "cell_type": "markdown",
   "metadata": {},
   "source": [
    "You can use <code>query.stop()</code> to stop the streaming query."
   ]
  }
 ],
 "metadata": {
  "kernelspec": {
   "display_name": "Python 3",
   "language": "python",
   "name": "python3"
  },
  "language_info": {
   "codemirror_mode": {
    "name": "ipython",
    "version": 3
   },
   "file_extension": ".py",
   "mimetype": "text/x-python",
   "name": "python",
   "nbconvert_exporter": "python",
   "pygments_lexer": "ipython3",
   "version": "3.8.2"
  }
 },
 "nbformat": 4,
 "nbformat_minor": 4
}
