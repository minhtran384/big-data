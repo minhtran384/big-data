{
 "cells": [
  {
   "cell_type": "code",
   "execution_count": null,
   "metadata": {},
   "outputs": [],
   "source": [
    "# import statements\n",
    "from kafka import KafkaConsumer\n",
    "import matplotlib.pyplot as plt\n",
    "\n",
    "# this line is needed for the inline display of graphs in Jupyter Notebook\n",
    "%matplotlib notebook\n",
    "\n",
    "topic = 'LectureDemo'\n",
    "\n",
    "def connect_kafka_consumer():\n",
    "    _consumer = None\n",
    "    try:\n",
    "         _consumer = KafkaConsumer(topic,\n",
    "                                   consumer_timeout_ms=10000, # stop iteration if no message after 10 sec\n",
    "                                   auto_offset_reset='latest', # comment this if you don't want to consume latest available message\n",
    "                                   bootstrap_servers=['localhost:9092'],\n",
    "                                   api_version=(0, 10))\n",
    "    except Exception as ex:\n",
    "        print('Exception while connecting Kafka')\n",
    "        print(str(ex))\n",
    "    finally:\n",
    "        return _consumer\n",
    "\n",
    "def init_plots():\n",
    "    try:\n",
    "        width = 9\n",
    "        height = 6\n",
    "        fig = plt.figure(figsize=(width,height)) # create new figure\n",
    "        ax = fig.add_subplot(111) # adding the subplot axes to the given grid position\n",
    "        fig.suptitle('What is the total number of attendees up to tx?') # giving figure a title\n",
    "        ax.set_xlabel('Time')\n",
    "        ax.set_ylabel('Total Number of Attendees')\n",
    "        fig.show() # displaying the figure\n",
    "        fig.canvas.draw() # drawing on the canvas\n",
    "        return fig, ax\n",
    "    except Exception as ex:\n",
    "        print(str(ex))\n",
    "    \n",
    "def consume_messages(consumer, fig, ax):\n",
    "    try:\n",
    "        total_count = 0\n",
    "        # container for x and y values\n",
    "        x, y = [], []\n",
    "        for message in consumer:\n",
    "            data = str(message.value.decode('utf-8')).split(',')\n",
    "            event_time = data[0]\n",
    "            x.append(event_time) \n",
    "            incoming_count = int(data[1])\n",
    "            outgoing_count = int(data[2])\n",
    "            total_count += (incoming_count + outgoing_count)\n",
    "            y.append(total_count)\n",
    "            # we start plotting only when we have 10 data points\n",
    "            if len(y) > 10:\n",
    "                ax.clear()\n",
    "                ax.plot(x, y)\n",
    "                text = 'Time={}\\nValue={}'.format(event_time, total_count)\n",
    "                ax.annotate(text, xy=(event_time, total_count), xytext=(event_time, total_count), arrowprops=dict(facecolor='red', shrink=0.05),)\n",
    "                ax.set_xlabel('Time')\n",
    "                ax.set_ylabel('Total Number of Attendees')\n",
    "                fig.canvas.draw()\n",
    "                x.pop(0) # removing the item in the first position\n",
    "                y.pop(0)\n",
    "        plt.close('all')\n",
    "    except Exception as ex:\n",
    "        print(str(ex))"
   ]
  },
  {
   "cell_type": "code",
   "execution_count": null,
   "metadata": {},
   "outputs": [],
   "source": [
    "consumer = connect_kafka_consumer()\n",
    "fig, ax = init_plots()\n",
    "consume_messages(consumer, fig, ax)"
   ]
  },
  {
   "cell_type": "code",
   "execution_count": null,
   "metadata": {},
   "outputs": [],
   "source": []
  }
 ],
 "metadata": {
  "kernelspec": {
   "display_name": "Python 3",
   "language": "python",
   "name": "python3"
  },
  "language_info": {
   "codemirror_mode": {
    "name": "ipython",
    "version": 3
   },
   "file_extension": ".py",
   "mimetype": "text/x-python",
   "name": "python",
   "nbconvert_exporter": "python",
   "pygments_lexer": "ipython3",
   "version": "3.8.2"
  }
 },
 "nbformat": 4,
 "nbformat_minor": 2
}
