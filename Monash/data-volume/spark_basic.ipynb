{
 "cells": [
  {
   "cell_type": "code",
   "execution_count": 1,
   "metadata": {},
   "outputs": [],
   "source": [
    "from pyspark import SparkConf\n",
    "from pyspark import SparkContext \n",
    "from pyspark.sql import SparkSession\n",
    "\n",
    "master = \"local[*]\"\n",
    "app_name = \"Data Partition and Parallel Search Demo\"\n",
    "spark_conf = SparkConf().setMaster(master).setAppName(app_name)\n",
    "\n",
    "spark = SparkSession.builder.config(conf=spark_conf).getOrCreate()\n",
    "sc = spark.sparkContext\n",
    "sc.setLogLevel('ERROR')"
   ]
  },
  {
   "cell_type": "code",
   "execution_count": 2,
   "metadata": {},
   "outputs": [],
   "source": [
    "list_students = [(8,\"Adele\"), (22, \"Bob\"), (16, \"Clement\"), (23, \"Dave\"), \n",
    "                 (11, \"Ed\"), (25, \"Fung\"), (3, \"Goel\"), (17, \"Harry\"), \n",
    "                 (14, \"Irene\"), (2, \"Joanna\"), (6, \"Kelly\"), (20, \"Lim\"), \n",
    "                 (1, \"Meng\"), (5, \"Noor\"), (19, \"Omar\")]\n",
    "num_of_partitions = 3\n",
    "\n",
    "def udf(splitIndex, iterator): yield f\"Partition No: {splitIndex}, Data: {[y for y in iterator]}\"\n",
    "\n",
    "# https://spark.apache.org/docs/latest/api/python/pyspark.html#pyspark.RDD.mapPartitionsWithIndex\n",
    "def print_partitions(rdd): \n",
    "    for y in rdd.mapPartitionsWithIndex(udf).collect():\n",
    "        print(y)"
   ]
  },
  {
   "cell_type": "code",
   "execution_count": 3,
   "metadata": {},
   "outputs": [
    {
     "name": "stdout",
     "output_type": "stream",
     "text": [
      "Partition No: 0, Data: [(8, 'Adele'), (22, 'Bob'), (16, 'Clement'), (23, 'Dave'), (11, 'Ed')]\n",
      "Partition No: 1, Data: [(25, 'Fung'), (3, 'Goel'), (17, 'Harry'), (14, 'Irene'), (2, 'Joanna')]\n",
      "Partition No: 2, Data: [(6, 'Kelly'), (20, 'Lim'), (1, 'Meng'), (5, 'Noor'), (19, 'Omar')]\n"
     ]
    }
   ],
   "source": [
    "# Random Equal Partitioning\n",
    "\n",
    "random_equal_paritioned_rdd = sc.parallelize(list_students, num_of_partitions)\n",
    "print_partitions(random_equal_paritioned_rdd)"
   ]
  },
  {
   "cell_type": "code",
   "execution_count": 4,
   "metadata": {},
   "outputs": [
    {
     "name": "stdout",
     "output_type": "stream",
     "text": [
      "Partition No: 0, Data: [(3, 'Goel'), (6, 'Kelly')]\n",
      "Partition No: 1, Data: [(22, 'Bob'), (16, 'Clement'), (25, 'Fung'), (1, 'Meng'), (19, 'Omar')]\n",
      "Partition No: 2, Data: [(8, 'Adele'), (23, 'Dave'), (11, 'Ed'), (17, 'Harry'), (14, 'Irene'), (2, 'Joanna'), (20, 'Lim'), (5, 'Noor')]\n"
     ]
    }
   ],
   "source": [
    "# Hash Data Partitioning\n",
    "\n",
    "# Sum of two digits\n",
    "# Example : hash_function(12) produces 3 i.e. 2 + 1\n",
    "def hash_function(key):\n",
    "    total = 0\n",
    "    for digit in str(key):\n",
    "        total += int(digit)\n",
    "    return total\n",
    "\n",
    "hash_partitioned_rdd = random_equal_paritioned_rdd.partitionBy(num_of_partitions, hash_function)\n",
    "print_partitions(hash_partitioned_rdd)"
   ]
  },
  {
   "cell_type": "code",
   "execution_count": 5,
   "metadata": {},
   "outputs": [],
   "source": [
    "# Range Data Partitioning in the lab."
   ]
  },
  {
   "cell_type": "code",
   "execution_count": 6,
   "metadata": {},
   "outputs": [
    {
     "name": "stdout",
     "output_type": "stream",
     "text": [
      "Partition No: 0, Data: []\n",
      "Partition No: 1, Data: []\n",
      "Partition No: 2, Data: [(6, 'Kelly')]\n"
     ]
    }
   ],
   "source": [
    "# Parallel Search\n",
    "filtered_rdd = random_equal_paritioned_rdd.filter(lambda x: x[0] == 6)\n",
    "print_partitions(filtered_rdd)"
   ]
  },
  {
   "cell_type": "code",
   "execution_count": 7,
   "metadata": {},
   "outputs": [
    {
     "name": "stdout",
     "output_type": "stream",
     "text": [
      "Partition No: 0, Data: [(6, 'Kelly')]\n",
      "Partition No: 1, Data: []\n",
      "Partition No: 2, Data: []\n"
     ]
    }
   ],
   "source": [
    "filtered_rdd = hash_partitioned_rdd.filter(lambda x: x[0] == 6)\n",
    "print_partitions(filtered_rdd)"
   ]
  }
 ],
 "metadata": {
  "kernelspec": {
   "display_name": "Python 3",
   "language": "python",
   "name": "python3"
  },
  "language_info": {
   "codemirror_mode": {
    "name": "ipython",
    "version": 3
   },
   "file_extension": ".py",
   "mimetype": "text/x-python",
   "name": "python",
   "nbconvert_exporter": "python",
   "pygments_lexer": "ipython3",
   "version": "3.8.5"
  }
 },
 "nbformat": 4,
 "nbformat_minor": 4
}
